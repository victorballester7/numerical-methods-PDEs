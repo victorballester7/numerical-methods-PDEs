{
 "cells": [
  {
   "cell_type": "markdown",
   "metadata": {},
   "source": [
    "# Tutorial. Finite difference methods for scalar conservation laws"
   ]
  },
  {
   "cell_type": "markdown",
   "metadata": {},
   "source": [
    "In physics, a <i>conservation law</i> states that a particular measurable property of an isolated physical system does not change as the system evolves over time. Exact conservation laws include conservation of mass and energy, conservation of linear momentum, conservation of angular momentum, and conservation of electric charge. It is usually expressed mathematically as a partial differential equation which gives a relation between the amount of the quantity and the \"transport\" of that quantity. It states that the amount of the conserved quantity at a point or within a volume can only change by the amount of the quantity which flows in or out of the volume.\n",
    "\n",
    "In this notebook, we are interested in the numerical solution of scalar conservation laws in one space dimension, using [finite difference methods](https://en.wikipedia.org/wiki/Finite_difference_method).\n",
    "\n",
    "The <tt>numpy</tt> and <tt>matplotlib</tt> packages will be needed."
   ]
  },
  {
   "cell_type": "code",
   "execution_count": null,
   "metadata": {},
   "outputs": [],
   "source": [
    "import numpy as np\n",
    "\n",
    "# To draw matplotlib plots within this notebook.\n",
    "%matplotlib inline\n",
    "import matplotlib.pyplot as plt\n",
    "from matplotlib import animation\n",
    "from IPython.display import HTML"
   ]
  },
  {
   "cell_type": "markdown",
   "metadata": {},
   "source": [
    "## Exercise 1. A linear problem.\n",
    "We are interested in solving the following Cauchy problem, comprised of a scalar conservation law\n",
    "$$\n",
    "\\frac{\\partial u}{\\partial t}(t,x)+\\frac{\\partial f(u)}{\\partial x}(t,x)=0,\\ t>0,\\ x\\in\\mathbb{R},\n",
    "$$\n",
    "where $f(u)=c\\,u$ (such a choice corresponds to a linear transport equation, the scalar $c$ being the constant advection velocity), and of an initial condition\n",
    "$$\n",
    "u(0,x)=u_0(x),\\ x\\in\\mathbb{R},\n",
    "$$\n",
    "the function $u_0$ being given."
   ]
  },
  {
   "cell_type": "markdown",
   "metadata": {},
   "source": [
    "**Question.** Solve this problem using the [method of characteristics](https://en.wikipedia.org/wiki/Method_of_characteristics) and then implement a function returning the value of the solution $u$ at a given time $t$ and a given point $x$."
   ]
  },
  {
   "cell_type": "markdown",
   "metadata": {},
   "source": [
    "**Answer.** The characteristic curves of the equation are the parallel half-lines $(x(t),t)$ defined by\n",
    "$$\n",
    "x(t)=c\\,t+x_0,\\ t\\in[0,+\\infty),\\ x_0\\in\\mathbb{R},\n",
    "$$\n",
    "and such that the solution $u$ is constant along them. The solution is then given by\n",
    "$$\n",
    "u(t,x)=u_0(x-c\\,t),\\ t\\in[0,+\\infty),\\ x\\in\\mathbb{R}.\n",
    "$$"
   ]
  },
  {
   "cell_type": "code",
   "execution_count": null,
   "metadata": {},
   "outputs": [],
   "source": [
    "def solution(t,x): return u0(x-c*t)"
   ]
  },
  {
   "cell_type": "markdown",
   "metadata": {},
   "source": [
    "In what follows, we assume that the initial datum $u_0$ is a periodic function. In such a situation, the solution $u$ is also a periodic function in the space variable, which allows to restrict the numerical solution of the problem to a bounded subset $[0,T]\\times[0,L]$ of $\\mathbb{R}_+\\times\\mathbb{R}$, where the real number $L$ is a period of the function $u_0$, by adding to the preceding equations the following periodicity condition\n",
    "$$\n",
    "u(t,0)=u(t,L),\\ t\\in[0,T].\n",
    "$$"
   ]
  },
  {
   "cell_type": "markdown",
   "metadata": {},
   "source": [
    "In the present case, we set $T=3$, $L=4$ and $c=1$, the restriction of the initial datum to $[0,L]$ being\n",
    "$$\n",
    "u_0(x)=\\begin{cases}1&\\text{if }1\\leq x\\leq 2,\\\\0&\\text{else.}\\end{cases}\n",
    "$$"
   ]
  },
  {
   "cell_type": "code",
   "execution_count": null,
   "metadata": {},
   "outputs": [],
   "source": [
    "T,L,c=3.,4.,1\n",
    "def u0(x): return (x%4>=1.) & (x%4<=2.)"
   ]
  },
  {
   "cell_type": "markdown",
   "metadata": {},
   "source": [
    "In order to compute a numerical approximation to the solution of the problem by the finite difference method, we first define a uniform Cartesian discretisation grid of the domain $[0,T]\\times[0,L]$ and the quotient $\\lambda=\\frac{\\Delta t}{\\Delta x}$, $\\Delta t$ and $\\Delta x$ being the lengths of the time and space steps, respectively.\n",
    "\n",
    "The numerical approximation of the solution to the problem will then be obtained by using successively:\n",
    "\n",
    "- the forward in time centered in space scheme ([FTCS](http://en.wikipedia.org/wiki/FTCS_scheme)),\n",
    "$$\n",
    "u^{n+1}_j=u^n_j-c\\lambda\\,\\frac{u^n_{j+1}-u^n_{j-1}}{2},\\ n\\in\\mathbb{N},\\ j\\in\\mathbb{Z},\n",
    "$$\n",
    "- the scheme of the [Lax-Friedrichs method](http://en.wikipedia.org/wiki/Lax%E2%80%93Friedrichs_method),\n",
    "$$\n",
    "u^{n+1}_j=\\frac{(1-c\\lambda)\\,u^n_{j+1}+(1+c\\lambda)\\,u^n_{j-1}}{2},\\ n\\in\\mathbb{N},\\ j\\in\\mathbb{Z},\n",
    "$$\n",
    "- the scheme of the [Lax-Wendroff method](http://en.wikipedia.org/wiki/Lax%E2%80%93Wendroff_method),\n",
    "$$\n",
    "u^{n+1}_j=u^n_j-c\\lambda\\,\\frac{u^n_{j+1}-u^n_{j-1}}{2}+(c\\lambda)^2\\,\\frac{u^n_{j+1}-2\\,u^n_j+u^n_{j-1}}{2},\\ n\\in\\mathbb{N},\\ j\\in\\mathbb{Z}.\n",
    "$$\n",
    "\n",
    "We recall that each of the three-point schemes given above can be written in *conservative form*, that is\n",
    "$$\n",
    "u^{n+1}_j=u^n_j-\\lambda\\left(h(u^n_j,u^n_{j+1})-h(u^n_{j-1},u^n_j)\\right),\\ n\\in\\mathbb{N},\\ j\\in\\mathbb{Z},\n",
    "$$\n",
    "where the function $h$ is the numerical flux associated with the scheme, defined up to an additive constant."
   ]
  },
  {
   "cell_type": "markdown",
   "metadata": {},
   "source": [
    "**Question.** Determine the numerical fluxes associated with the conservative form of the above schemes and implement their corresponding functions."
   ]
  },
  {
   "cell_type": "markdown",
   "metadata": {},
   "source": [
    "**Answer.** Identifying with the formulas defining the schemes with the conservative form given above, one finds that\n",
    "$$\n",
    "h_{FTCS}(u,v)=\\frac{c}{2}(u+v),\n",
    "$$\n",
    "$$\n",
    "h_{LF}(u,v)=\\frac{1}{2}\\left(c(u+v)-\\frac{v-u}{\\lambda}\\right),\n",
    "$$\n",
    "and\n",
    "$$\n",
    "h_{LW}(u,v)=\\frac{c}{2}\\left(u+v-c\\lambda(v-u)\\right).\n",
    "$$"
   ]
  },
  {
   "cell_type": "code",
   "execution_count": null,
   "metadata": {},
   "outputs": [],
   "source": [
    "# numerical flux for the FTCS scheme\n",
    "def h_ftcs(u,v): return 0.5*c*(u+v)\n",
    "# numerical flux for the Lax-Friedrichs scheme\n",
    "def h_lf(u,v): return 0.5*(c*(u+v)-(v-u)/lam)\n",
    "# numerical flux for the Lax-Wendroff scheme\n",
    "def h_lw(u,v): return 0.5*c*(u+v-lam*c*(v-u))"
   ]
  },
  {
   "cell_type": "markdown",
   "metadata": {},
   "source": [
    "**Question.** Compute a numerical approximation to the solution of the problem with each of the three schemes, using $500$ steps in space and setting the Courant number value to $0.9$ in the [Courant-Friedrichs-Lewy condition](https://en.wikipedia.org/wiki/Courant%E2%80%93Friedrichs%E2%80%93Lewy_condition)."
   ]
  },
  {
   "cell_type": "markdown",
   "metadata": {},
   "source": [
    "**Answer.** We subdivide the space interval $[0,L]$ into $M$ sub-intervals of equal length $\\Delta x=\\frac{L}{M}$. To choose a time step, we rely on the CFL condition in which the Courant number is set to $0.9$, meaning that\n",
    "$$\n",
    "|c|\\lambda=|c|\\frac{\\Delta t}{\\Delta x}=0.9,\n",
    "$$\n",
    "that is $\\Delta t=\\frac{0.9\\Delta x}{|c|}$. We then set $N=\\left\\lceil\\frac{T}{\\Delta t}\\right\\rceil$.\n",
    "Finally, the discrete form of the periodicity condition is\n",
    "$$\n",
    "u^n_0=u^n_{M},\\ n\\in\\{0,\\dots,N\\}.\n",
    "$$"
   ]
  },
  {
   "cell_type": "code",
   "execution_count": null,
   "metadata": {
    "scrolled": true
   },
   "outputs": [],
   "source": [
    "# setting of the space step\n",
    "M=500\n",
    "dx=L/M\n",
    "X=np.linspace(0,L,M+1)\n",
    "\n",
    "# setting of the time step using the fixed value of the Courant number in the CFL condition\n",
    "alpha=0.9 # value of the Courant number\n",
    "dt=alpha*dx/abs(c) # recall that the flux in the equation is linear (f(u)=cu)\n",
    "N=int(np.ceil(T/dt))\n",
    "\n",
    "lam=dt/dx\n",
    "\n",
    "# initialisation for each of the three schemes\n",
    "U_ftcs,U_lf,U_lw=np.zeros([N+1,M+1]),np.zeros([N+1,M+1]),np.zeros([N+1,M+1])\n",
    "Up,Um=np.zeros(M+1),np.zeros(M+1)\n",
    "U_ftcs[0,:],U_lf[0,:],U_lw[0,:]=u0(X),u0(X),u0(X)\n",
    "\n",
    "t=np.zeros(N+1)\n",
    "\n",
    "# time loop\n",
    "for n in range(N):\n",
    "    # FTCS scheme\n",
    "    Up[0:M],Up[M]=[U_ftcs[n,i] for i in range(1,M+1)],U_ftcs[n,1]\n",
    "    Um[0],Um[1:M+1]=U_ftcs[n,M-1],[U_ftcs[n,i] for i in range(M)]\n",
    "    U_ftcs[n+1,:]=U_ftcs[n,:]-lam*(h_ftcs(U_ftcs[n,:],Up)-h_ftcs(Um,U_ftcs[n,:]))\n",
    "    # Lax-Friedrichs method\n",
    "    Up[0:M],Up[M]=[U_lf[n,i] for i in range(1,M+1)],U_lf[n,1]\n",
    "    Um[0],Um[1:M+1]=U_lf[n,M-1],[U_lf[n,i] for i in range(M)]\n",
    "    U_lf[n+1,:]=U_lf[n,:]-lam*(h_lf(U_lf[n,:],Up)-h_lf(Um,U_lf[n,:]))\n",
    "    # Lax-Wendroff method\n",
    "    Up[0:M],Up[M]=[U_lw[n,i] for i in range(1,M+1)],U_lw[n,1]\n",
    "    Um[0],Um[1:M+1]=U_lw[n,M-1],[U_lw[n,i] for i in range(M)]\n",
    "    U_lw[n+1,:]=U_lw[n,:]-lam*(h_lw(U_lw[n,:],Up)-h_lw(Um,U_lw[n,:]))\n",
    "    \n",
    "    t[n+1]=t[n]+dt"
   ]
  },
  {
   "cell_type": "markdown",
   "metadata": {},
   "source": [
    "**Question.** Using the code given below, make animations plotting the computed numerical approximation together with the exact solution of the problem. Comment."
   ]
  },
  {
   "cell_type": "code",
   "execution_count": null,
   "metadata": {},
   "outputs": [],
   "source": [
    "# size of the animation window\n",
    "fig,ax=plt.subplots()\n",
    "ax.set_xlim((0,L))\n",
    "ax.set_ylim((-0.5,1.5))\n",
    "\n",
    "# plotting of two curves (one for the exact solution, one for the numerical approximation)\n",
    "line,=ax.plot([],[],lw=2)\n",
    "line2,=ax.plot([],[],lw=2)\n",
    "\n",
    "# function to initialise the plots\n",
    "def init():\n",
    "    line.set_data([],[])\n",
    "    line2.set_data([],[])\n",
    "    return (line,line2,)\n",
    "\n",
    "# function to build the animation\n",
    "def animate(i):\n",
    "    line.set_data(X,solution(t[i],X)) # plotting of the exact solution\n",
    "    line2.set_data(X,U[i,:]) # plotting of the numerical approximation from the values stored in the array U\n",
    "    return (line,line2,)"
   ]
  },
  {
   "cell_type": "markdown",
   "metadata": {},
   "source": [
    "**Answer.** We start with the FTCS scheme."
   ]
  },
  {
   "cell_type": "code",
   "execution_count": null,
   "metadata": {
    "scrolled": true
   },
   "outputs": [],
   "source": [
    "U=U_ftcs\n",
    "anim=animation.FuncAnimation(fig,animate,init_func=init,frames=N,interval=20,blit=True)\n",
    "HTML(anim.to_jshtml())"
   ]
  },
  {
   "cell_type": "markdown",
   "metadata": {},
   "source": [
    "We find that this scheme is unstable under the CFL condition."
   ]
  },
  {
   "cell_type": "markdown",
   "metadata": {},
   "source": [
    "We continue with the Lax-Friedrichs method."
   ]
  },
  {
   "cell_type": "code",
   "execution_count": null,
   "metadata": {},
   "outputs": [],
   "source": [
    "U=U_lf\n",
    "anim=animation.FuncAnimation(fig,animate,init_func=init,frames=N,interval=20,blit=True)\n",
    "HTML(anim.to_jshtml())"
   ]
  },
  {
   "cell_type": "markdown",
   "metadata": {},
   "source": [
    "This scheme is stable under the CFL condition and shows signs of numerical dissipation. This is best understood when one rewrites the scheme as a \"correction\" of the FTCS scheme:\n",
    "$$\n",
    "\\frac{u^{n+1}_j-u^n_j}{\\Delta t}+a\\frac{u^n_{j+1}-u^n_{j-1}}{2\\Delta x}=\\frac{1}{2}\\frac{(\\Delta x)^2}{\\Delta t}\\frac{u^n_{j+1}-2u^n_j+u^n_{j-1}}{(\\Delta x)^2},\n",
    "$$\n",
    "in which a diffusion term, of order one in $\\Delta x$ under the CFL condition, appears (and would correspond, using a modified equation approach, to a second-order partial derivative in the space variable)."
   ]
  },
  {
   "cell_type": "markdown",
   "metadata": {},
   "source": [
    "We end with the Lax-Wendroff method."
   ]
  },
  {
   "cell_type": "code",
   "execution_count": null,
   "metadata": {},
   "outputs": [],
   "source": [
    "U=U_lw\n",
    "anim=animation.FuncAnimation(fig,animate,init_func=init,frames=N,interval=20,blit=True)\n",
    "HTML(anim.to_jshtml())"
   ]
  },
  {
   "cell_type": "markdown",
   "metadata": {},
   "source": [
    "This scheme is stable under the CFL condition. It is less dissipative than for the Lax-Friedrichs method, but the approximation shows some spurious oscillations, which grow over time, in the vicinity of the discontinuities of the solution, characteric of the [Gibbs phenomenon](https://en.wikipedia.org/wiki/Gibbs_phenomenon). This is typical of schemes which employ a high-order spatial discretisation (the accuracy of the Lax-Wendroff method being of order two) in the presence of discontinuities. In practice, such problem is avoided through the use of [flux limiters](https://en.wikipedia.org/wiki/Flux_limiter) (which render the scheme non-linear even if the flux in the equation is linear)."
   ]
  },
  {
   "cell_type": "markdown",
   "metadata": {},
   "source": [
    "## Exercise 2. A non-linear problem.\n",
    "We are interested in solving the Cauchy problem defined in the preceding exercise, but with a flux which now equal to $f(u)=\\frac{u^2}{2}$ (this choice corresponds to the inviscid [Burgers equation](https://en.wikipedia.org/wiki/Burgers%27_equation)) and the initial datum\n",
    "$$\n",
    "u_0(x)=\\begin{cases}1&\\text{if }0\\leq x\\leq 1,\\\\0&\\text{else.}\\end{cases}\n",
    "$$\n",
    "In what follows, we consider a solution on the domain $[0,3]\\times[-1,4]$."
   ]
  },
  {
   "cell_type": "code",
   "execution_count": null,
   "metadata": {},
   "outputs": [],
   "source": [
    "T=3.\n",
    "def u0(x): return (x>=0.) & (x<=1.)"
   ]
  },
  {
   "cell_type": "markdown",
   "metadata": {},
   "source": [
    "**Question.** Determine the unique entropy solution of the problem and implement a function returning the value of this solution at a given time $t$ and a given point $x$."
   ]
  },
  {
   "cell_type": "markdown",
   "metadata": {},
   "source": [
    "**Answer.** With such an initial datum, one must distinguish three zones for the characteristic curves since\n",
    "$$\n",
    "x(t)=\\begin{cases}x_0&\\text{if }x_0\\leq0,\\\\t+x_0&\\text{if }0<x_0\\leq1,\\\\x_0&\\text{if }x_0>1,\\end{cases}\\ x_0\\in\\mathbb{R}.\n",
    "$$\n",
    "The curves of the second and third region intersect at the initial time $t=0$. The flux in the equation being a strictly convex function, the Lax entropy condition states that a shock is admissible if the value of the solution to its left is stricly larger than the value to its right. The second discontinuity in the initial datum hence produces a shock wave emanating from $x=1$ and travelling along a curve, parametrised by the function $t\\mapsto\\xi(t)$, at a speed is given by the [Rankine-Hugoniot condition](https://en.wikipedia.org/wiki/Rankine%E2%80%93Hugoniot_conditions):\n",
    "$$\n",
    "\\xi'(t)=\\frac{1}{2},\n",
    "$$\n",
    "so that $\\xi(t)=\\frac{1}{2}\\,t+1$. On the other hand, the first discontinuity in the initial datum gives birth to a rarefaction wave, associated to curves $\\frac{x}{t}=\\text{constant}$ filling the area between the first and second zones without characteristic curves to define the solution. The unique entropy solution to the problem is thus given by\n",
    "$$\n",
    "u(t,x)=\\begin{cases}0&\\text{if }x<0,\\\\\\dfrac{x}{t}&\\text{if }0<x<t,\\\\1&\\text{if }t<x<1+\\dfrac{t}{2},\\\\0&\\text{if }x>1+\\dfrac{t}{2},\\end{cases}\\text{ for }0<t<t^*,\n",
    "$$\n",
    "up to a time $t^*$ sastifying $t^*=1+\\frac{t^*}{2}$, that is $t^*=2$, for which the rarefaction wave meets the shock wave. For $t>2$, a discontinuity separates the rarefaction wave on the left from the vacuum (that is, the constant state with value $0$) on the right. Using once again the Rankine-Hugoniot conditions, we find that the function $\\xi$ parametrising the discontinuity curse satisfies\n",
    "$$\n",
    "\\xi'(t)=\\frac{1}{2t}\\,\\xi(t),\\ \\xi(2)=2,\n",
    "$$\n",
    "so that $\\xi(t)=\\sqrt{2t}$ and finally\n",
    "$$\n",
    "u(t,x)=\\begin{cases}0&\\text{if }x<0,\\\\\\dfrac{x}{t}&\\text{if }0<x<\\sqrt{2t},\\\\0&\\text{if }x>\\sqrt{2t},\\end{cases}\\text{ for }t>2.\n",
    "$$"
   ]
  },
  {
   "cell_type": "code",
   "execution_count": null,
   "metadata": {},
   "outputs": [],
   "source": [
    "def solution(t,x):\n",
    "    if (t==0):\n",
    "       sol=u0(x)\n",
    "    elif (t>0) & (t<2):\n",
    "        sol=np.where([(x>=0)&(x<t)],x/t,np.where([(x>=t)&(x<1.+0.5*t)],np.ones(len(x)),np.zeros(len(x))))\n",
    "    else:\n",
    "        sol=np.where([(x>=0)&(x<np.sqrt(2.*t))],x/t,np.zeros(len(x)))\n",
    "    return sol"
   ]
  },
  {
   "cell_type": "markdown",
   "metadata": {},
   "source": [
    "The flux $f$ being a nonlinear function, we use the following adaptations for the schemes of the Lax-Friedrichs method \n",
    "$$\n",
    "u_j^{n+1}=\\frac{1}{2}\\,\\left(u_{j+1}^n+u_{j-1}^n\\right)-\\frac{\\lambda}{2}\\,\\left(f(u_{j+1}^n)-f(u_{j-1}^n)\\right),\\ n\\in\\mathbb{N},\\ j\\in\\mathbb{Z},\n",
    "$$\n",
    "and of the Lax-Wendroff method\n",
    "$$\n",
    "u_j^{n+1}=u_j^n-\\frac{\\lambda}{2}\\,\\left(f(u_{j+1}^n)-f(u_{j-1}^n)\\right)+\\frac{\\lambda^2}{2}\\left(f'\\left(\\frac{u_{j+1}^n+u_j^n}{2}\\right)\\left(f(u_{j+1}^n)-f(u_j^n)\\right)-f'\\left(\\frac{u_j^n+u_{j-1}^n}{2}\\right)\\left(f(u_j^n)-f(u_{j-1}^n)\\right)\\right),\\ n\\in\\mathbb{N},\\ j\\in\\mathbb{Z},\n",
    "$$\n",
    "to numerically solve the problem."
   ]
  },
  {
   "cell_type": "markdown",
   "metadata": {},
   "source": [
    "**Question.** Use these two methods to numerically approximate the entropy solution of the problem. The Courant number will be fixed to the value $0.9$ in the CFL condition."
   ]
  },
  {
   "cell_type": "code",
   "execution_count": null,
   "metadata": {
    "scrolled": true
   },
   "outputs": [],
   "source": [
    "# setting of the space step\n",
    "M=500\n",
    "dx=5/M\n",
    "X=np.linspace(-1,4,M+1)\n",
    "\n",
    "alpha=0.9 # value of the Courant number in the CFL condition\n",
    "\n",
    "def flux(u): return 0.5*u*u # flux\n",
    "def dflux(u): return u # derivative of the flux (for the Lax-Wendroff methode)\n",
    "\n",
    "# numerical flux for the Lax-Friedrichs method\n",
    "def h_lf(u,v): return 0.5*(flux(v)+flux(u)-(v-u)/lam)\n",
    "# numerical flux for the Lax-Wendroff method\n",
    "def h_lw(u,v):\n",
    "    fu,fv=flux(u),flux(v)\n",
    "    return 0.5*(fv+fu-lam*dflux(0.5*(u+v))*(fv-fu))\n",
    "\n",
    "# initialisation for each of the schemes\n",
    "Nmax=2000\n",
    "U_lf,U_lw=np.zeros([Nmax,M+1]),np.zeros([Nmax,M+1])\n",
    "Up,Um=np.zeros(M+1),np.zeros(M+1)\n",
    "U_lf[0,:],U_lw[0,:]=u0(X),u0(X)\n",
    "\n",
    "t_lf,t_lw=np.zeros(Nmax+1),np.zeros(Nmax+1)\n",
    "n_lf,n_lw=0,0\n",
    "\n",
    "# time loop\n",
    "# Lax-Friedrichs method\n",
    "while (t_lf[n_lf]<T):\n",
    "    # setting of the time step using the CFL condition\n",
    "    dt=alpha*dx/np.amax(abs(dflux(U_lf)))\n",
    "    lam=dt/dx\n",
    "\n",
    "    Up[0:M],Up[M]=[U_lf[n_lf,i] for i in range(1,M+1)],0\n",
    "    Um[0],Um[1:M+1]=0,[U_lf[n_lf,i] for i in range(M)]\n",
    "    U_lf[n_lf+1,:]=U_lf[n_lf,:]-lam*(h_lf(U_lf[n_lf,:],Up)-h_lf(Um,U_lf[n_lf,:]))\n",
    "    \n",
    "    t_lf[n_lf+1]=t_lf[n_lf]+dt\n",
    "    n_lf=n_lf+1\n",
    "    \n",
    "# Lax-Wendroff method\n",
    "while (t_lw[n_lw]<T):\n",
    "    # setting of the time step using the CFL condition\n",
    "    dt=alpha*dx/np.amax(abs(dflux(U_lw)))\n",
    "    lam=dt/dx\n",
    "    \n",
    "    Up[0:M],Up[M]=[U_lw[n_lw,i] for i in range(1,M+1)],0\n",
    "    Um[0],Um[1:M+1]=0,[U_lw[n_lw,i] for i in range(M)]\n",
    "    U_lw[n_lw+1,:]=U_lw[n_lw,:]-lam*(h_lw(U_lw[n_lw,:],Up)-h_lw(Um,U_lw[n_lw,:]))\n",
    "\n",
    "    t_lw[n_lw+1]=t_lw[n_lw]+dt\n",
    "    n_lw=n_lw+1"
   ]
  },
  {
   "cell_type": "markdown",
   "metadata": {},
   "source": [
    "**Question.** Make animations using the code given in the preceding exercise (the size of the animation window will be modified as indicated below). What can be said of the computed numerical approximations?"
   ]
  },
  {
   "cell_type": "code",
   "execution_count": null,
   "metadata": {},
   "outputs": [],
   "source": [
    "# setting of the size of the animation window\n",
    "ax.set_xlim((-1,4))\n",
    "ax.set_ylim((-1.,1.5))\n",
    "\n",
    "t,U=t_lf,U_lf\n",
    "anim=animation.FuncAnimation(fig,animate,init_func=init,frames=n_lf,interval=10,blit=True)\n",
    "HTML(anim.to_jshtml())"
   ]
  },
  {
   "cell_type": "markdown",
   "metadata": {},
   "source": [
    "**Answer.** The Lax-Friedrichs method produces an approximation of the entropy solution."
   ]
  },
  {
   "cell_type": "code",
   "execution_count": null,
   "metadata": {
    "scrolled": true
   },
   "outputs": [],
   "source": [
    "t,U=t_lw,U_lw\n",
    "anim=animation.FuncAnimation(fig,animate,init_func=init,frames=n_lw,interval=10,blit=True)\n",
    "HTML(anim.to_jshtml())"
   ]
  },
  {
   "cell_type": "markdown",
   "metadata": {},
   "source": [
    "The numerical approximation produced by the Lax-Wendroff method possesses discontinuities which do not satisfy the entropy condition: the weak solution to which it converges is not an entropy solution of the problem. This is in line with the [Godunov theorem](https://en.wikipedia.org/wiki/Godunov%27s_theorem), which states that a linear numerical scheme for solving partial differential equations having the property of not generating new extrema can be at most first-order accurate."
   ]
  }
 ],
 "metadata": {
  "kernelspec": {
   "display_name": "Python 3",
   "language": "python",
   "name": "python3"
  },
  "language_info": {
   "codemirror_mode": {
    "name": "ipython",
    "version": 3
   },
   "file_extension": ".py",
   "mimetype": "text/x-python",
   "name": "python",
   "nbconvert_exporter": "python",
   "pygments_lexer": "ipython3",
   "version": "3.10.12"
  }
 },
 "nbformat": 4,
 "nbformat_minor": 2
}
