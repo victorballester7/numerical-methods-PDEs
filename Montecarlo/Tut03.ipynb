{
 "cells": [
  {
   "cell_type": "code",
   "execution_count": 3,
   "metadata": {},
   "outputs": [],
   "source": [
    "import numpy as np\n",
    "import matplotlib.pyplot as plt"
   ]
  },
  {
   "cell_type": "code",
   "execution_count": 4,
   "metadata": {},
   "outputs": [],
   "source": [
    "xmin = -1\n",
    "xmax = 1\n",
    "N_time = 1.0\n",
    "Tmin = 0.0\n",
    "Tmax = 0.5\n",
    "dt = (Tmax-Tmin)/N_time\n",
    "speed = 0.2\n",
    "dx = 0.05\n",
    "N_cell = int((xmax-xmin)/dx)\n",
    "Xmin = np.linspace(-1, 1, N_cell, endpoint=False)\n",
    "Xmax = np.linspace(-1+dx, 1, N_cell)\n",
    "Xj = np.arange(N_cell)"
   ]
  },
  {
   "cell_type": "code",
   "execution_count": 5,
   "metadata": {},
   "outputs": [],
   "source": [
    "# information of the problem\n",
    "N_proc = 100\n",
    "N_per_cell = int(N_proc/10.0) # with x = 0.05 we have 10 cells with positive initial condition\n",
    "particle_pos = np.zeros(N_proc)\n",
    "particle_cell = np.zeros(N_proc)\n",
    "particle_direction = np.zeros(N_proc)\n",
    "particle_weight = np.zeros(N_proc)\n",
    "particle_timeleft = np.zeros(N_proc)"
   ]
  },
  {
   "cell_type": "code",
   "execution_count": 6,
   "metadata": {},
   "outputs": [],
   "source": [
    "scattering=0\n",
    "absorption=0"
   ]
  },
  {
   "cell_type": "code",
   "execution_count": 9,
   "metadata": {},
   "outputs": [],
   "source": [
    "num_process = 0\n",
    "for cmp_cell in np.arange(0, N_cell):\n",
    "    if (np.round(Xmin[cmp_cell], 2) >= -0.25 and np.round(Xmax[cmp_cell], 2) <= 0.25):\n",
    "        for cmp_proc in np.linspace(num_process, num_process+N_per_cell, N_per_cell, dtype=int):\n",
    "            rand = np.random.uniform(low=0.0, high=1.0, size=1)[0]\n",
    "            pos = rand*(np.round(Xmax[cmp_cell], 2) -\n",
    "                        np.round(Xmin[cmp_cell], 2))+np.round(Xmax[cmp_cell], 2)\n",
    "            particle_pos[num_process] = pos\n",
    "            rand = np.random.uniform(low=0.0, high=1.0, size=1)[0]\n",
    "            particle_direction[num_process] = rand*2-1\n",
    "            particle_cell[num_process] = cmp_cell\n",
    "            particle_weight[num_process] = 1.0/N_per_cell\n",
    "            num_process = num_process+1"
   ]
  },
  {
   "cell_type": "code",
   "execution_count": 12,
   "metadata": {},
   "outputs": [
    {
     "data": {
      "text/plain": [
       "<matplotlib.legend.Legend at 0x7fe14306fd50>"
      ]
     },
     "execution_count": 12,
     "metadata": {},
     "output_type": "execute_result"
    },
    {
     "data": {
      "image/png": "[encoded data removed]",
      "text/plain": [
       "<Figure size 640x480 with 1 Axes>"
      ]
     },
     "metadata": {},
     "output_type": "display_data"
    }
   ],
   "source": [
    "num_process =0\n",
    "u_init =np.zeros(N_cell)\n",
    "for cmp_proc in np.arange(0, N_proc):\n",
    "    u_init[int(particle_cell[cmp_proc])] += particle_weight[cmp_proc]\n",
    "\n",
    "plt.figure()\n",
    "plt.plot((Xmin+Xmax)/2, u_init, '-', label='u_0')\n",
    "plt.legend()"
   ]
  },
  {
   "cell_type": "code",
   "execution_count": 17,
   "metadata": {},
   "outputs": [
    {
     "ename": "KeyboardInterrupt",
     "evalue": "",
     "output_type": "error",
     "traceback": [
      "\u001b[0;31m---------------------------------------------------------------------------\u001b[0m",
      "\u001b[0;31mKeyboardInterrupt\u001b[0m                         Traceback (most recent call last)",
      "Cell \u001b[0;32mIn[17], line 16\u001b[0m\n\u001b[1;32m     14\u001b[0m \u001b[38;5;28;01mif\u001b[39;00m (scattering\u001b[38;5;241m>\u001b[39m\u001b[38;5;241m0\u001b[39m):\n\u001b[1;32m     15\u001b[0m     time_to_collision \u001b[38;5;241m=\u001b[39mnp\u001b[38;5;241m.\u001b[39mrandom\u001b[38;5;241m.\u001b[39mexponential(\u001b[38;5;241m1.0\u001b[39m\u001b[38;5;241m/\u001b[39mscattering)\n\u001b[0;32m---> 16\u001b[0m min_time \u001b[38;5;241m=\u001b[39m \u001b[43mnp\u001b[49m\u001b[38;5;241;43m.\u001b[39;49m\u001b[43mmin\u001b[49m\u001b[43m(\u001b[49m\u001b[43m[\u001b[49m\u001b[43mtime_to_out\u001b[49m\u001b[43m,\u001b[49m\u001b[43m \u001b[49m\u001b[43mtime_to_collision\u001b[49m\u001b[43m]\u001b[49m\u001b[43m)\u001b[49m\n\u001b[1;32m     17\u001b[0m \u001b[38;5;28;01mif\u001b[39;00m(particle_timeleft[cmp_proc] \u001b[38;5;241m<\u001b[39m min_time):\n\u001b[1;32m     18\u001b[0m     min_time \u001b[38;5;241m=\u001b[39m particle_timeleft[cmp_proc]\n",
      "\u001b[0;31mKeyboardInterrupt\u001b[0m: "
     ]
    }
   ],
   "source": [
    "# time loop\n",
    "for cmp_time in np.arange(Tmin+dt, Tmax+dt, dt):\n",
    "    #tracking of process:\n",
    "    for cmp_proc in np.arange(0, N_proc):\n",
    "        particle_timeleft[cmp_proc] = dt\n",
    "        while(particle_timeleft[cmp_proc] > 0):\n",
    "            if (particle_direction[cmp_proc] > 0):\n",
    "                time_to_out = np.abs(\n",
    "                    (Xmax[int(particle_cell[cmp_proc])]-particle_pos[cmp_proc])/particle_direction[cmp_proc])\n",
    "            else:\n",
    "                time_to_out = np.abs(\n",
    "                    (Xmin[int(particle_cell[cmp_proc])]-particle_pos[cmp_proc])/particle_direction[cmp_proc])\n",
    "            time_to_collision =Tmax\n",
    "            if (scattering>0):\n",
    "                time_to_collision =np.random.exponential(1.0/scattering)\n",
    "            min_time = np.min([time_to_out, time_to_collision])\n",
    "            if(particle_timeleft[cmp_proc] < min_time):\n",
    "                min_time = particle_timeleft[cmp_proc]\n",
    "            else:\n",
    "                if (time_to_out > time_to_collision):\n",
    "                    min_time = time_to_collision\n",
    "                    rand = np.random.uniform(low=0.0, high=1.0, size=1)[0]\n",
    "                    particle_direction[cmp_proc] = rand*2-1\n",
    "                else:\n",
    "                    min_time = time_to_out\n",
    "                    particle_timeleft[cmp_proc] += np.sign(particle_direction[cmp_proc])\n",
    "                    \n",
    "            \n",
    "            particle_weight[cmp_proc] *= np.exp(-absorption*min_time)\n",
    "            particle_timeleft[cmp_proc] +=speed*particle_direction[cmp_proc]*min_time\n",
    "            particle_timeleft[cmp_proc] -= min_time"
   ]
  },
  {
   "cell_type": "code",
   "execution_count": 13,
   "metadata": {},
   "outputs": [
    {
     "name": "stderr",
     "output_type": "stream",
     "text": [
      "/tmp/ipykernel_7145/353803110.py:6: RuntimeWarning: divide by zero encountered in scalar divide\n",
      "  particle_timeleft[cmp_proc] = -np.log(rand)/absorption\n"
     ]
    },
    {
     "ename": "NameError",
     "evalue": "name 'particle' is not defined",
     "output_type": "error",
     "traceback": [
      "\u001b[0;31m---------------------------------------------------------------------------\u001b[0m",
      "\u001b[0;31mNameError\u001b[0m                                 Traceback (most recent call last)",
      "Cell \u001b[0;32mIn[13], line 35\u001b[0m\n\u001b[1;32m     33\u001b[0m     particle_direction[cmp_proc] \u001b[38;5;241m=\u001b[39m \u001b[38;5;241m-\u001b[39mparticle_direction[cmp_proc]\n\u001b[1;32m     34\u001b[0m \u001b[38;5;28;01melif\u001b[39;00m (particle_pos[cmp_proc] \u001b[38;5;241m>\u001b[39m Xmax[cmp_cell]):\n\u001b[0;32m---> 35\u001b[0m     \u001b[43mparticle\u001b[49m\n",
      "\u001b[0;31mNameError\u001b[0m: name 'particle' is not defined"
     ]
    }
   ],
   "source": [
    "# we generate the direction process \n",
    "for t in np.arange(Tmin,Tmax,dt):\n",
    "    particle_pos += particle_direction*speed*dt\n",
    "    particle_cell = (particle_pos/dx+0.5*N_cell).astype(int)\n",
    "        \n",
    "       "
   ]
  },
  {
   "cell_type": "code",
   "execution_count": 16,
   "metadata": {},
   "outputs": [
    {
     "ename": "TypeError",
     "evalue": "only length-1 arrays can be converted to Python scalars",
     "output_type": "error",
     "traceback": [
      "\u001b[0;31m---------------------------------------------------------------------------\u001b[0m",
      "\u001b[0;31mTypeError\u001b[0m                                 Traceback (most recent call last)",
      "Cell \u001b[0;32mIn[16], line 2\u001b[0m\n\u001b[1;32m      1\u001b[0m a \u001b[38;5;241m=\u001b[39m np\u001b[38;5;241m.\u001b[39marray([\u001b[38;5;241m1\u001b[39m,\u001b[38;5;241m2\u001b[39m,\u001b[38;5;241m3\u001b[39m,\u001b[38;5;241m4\u001b[39m,\u001b[38;5;241m53.2\u001b[39m])\n\u001b[0;32m----> 2\u001b[0m \u001b[38;5;28;43mint\u001b[39;49m\u001b[43m(\u001b[49m\u001b[43ma\u001b[49m\u001b[43m)\u001b[49m\n",
      "\u001b[0;31mTypeError\u001b[0m: only length-1 arrays can be converted to Python scalars"
     ]
    }
   ],
   "source": [
    "a = np.array([1,2,3,4,53.2])\n"
   ]
  },
  {
   "cell_type": "code",
   "execution_count": null,
   "metadata": {},
   "outputs": [],
   "source": []
  }
 ],
 "metadata": {
  "kernelspec": {
   "display_name": "Python 3",
   "language": "python",
   "name": "python3"
  },
  "language_info": {
   "codemirror_mode": {
    "name": "ipython",
    "version": 3
   },
   "file_extension": ".py",
   "mimetype": "text/x-python",
   "name": "python",
   "nbconvert_exporter": "python",
   "pygments_lexer": "ipython3",
   "version": "3.11.6"
  }
 },
 "nbformat": 4,
 "nbformat_minor": 2
}
