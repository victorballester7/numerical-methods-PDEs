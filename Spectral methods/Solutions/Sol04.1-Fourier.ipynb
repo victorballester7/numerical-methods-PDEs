{
 "cells": [
  {
   "cell_type": "markdown",
   "metadata": {},
   "source": [
    "# Tutorial. The Fourier interpolation\n",
    "\n",
    "Spectral methods are a class of spatial discretisation methods for differential equations in which the approximation of the solution $u$ of the problem is based an expansion in terms of so-called *trial functions* $\\{\\phi_k\\}_{k=0,\\dots,N-1}$,\n",
    "$$\n",
    "u(x)\\approx\\sum_{k=0}^{N-1}\\tilde{u}_k\\phi_k(x),\n",
    "$$\n",
    "the $N$ coefficients of the expansion being noted by $\\tilde{u}_k$, $k=0,\\dots,N-1$.\n",
    "\n",
    "The choice of the trial function is dictated by the practical and computational efficiency of of the numerical method, and it has to meet the following requirements:\n",
    "* *Convergence:* the approximation should converge rapidly to the solution $u$ as $N$ tends to $+\\infty$,\n",
    "* *Transformation:* the computation of the coefficients $\\tilde{u}_k$ from the values of $u$ and the reconstruction of the function values at given nodes from the set of coefficients should be computationally fast,\n",
    "* *Differentiation:* given the expansion coefficients of a function, it should be easy to determine the set of coefficients associated with an approximation of a spatial derivative of the function.\n",
    "\n",
    "For periodic problems, the Fourier system, formed by the orthogonal (with respect to the $L^2((0,2\\pi),\\mathbb{C})$-scalar product) set of functions\n",
    "$$\n",
    "\\forall k\\in\\mathbb{Z},\\ \\phi_k(x)=e^{ikx}\n",
    "$$\n",
    "over the interval $(0,2\\pi)$ is an appropriate choice, due to the approximation properties of the Fourier series and the availability of a rapid algorithm, the [fast Fourier transform](https://en.wikipedia.org/wiki/Fast_Fourier_transform), to compute the [discrete Fourier transform](https://en.wikipedia.org/wiki/Discrete_Fourier_transform) of a sequence. The interpolant of $u$ then takes the form\n",
    "$$\n",
    "\\sum_{k=-K}^K\\tilde{u}_k\\phi_k\n",
    "$$\n",
    "if $N=2K+1$ is odd, or\n",
    "$$\n",
    "\\sum_{k=-K+1}^K\\tilde{u}_k\\phi_k\n",
    "$$\n",
    "if $N=2K$ is even, where the coefficients $\\tilde{u}_k$ are the *discrete Fourier coefficients* of the function $u$.\n",
    "\n",
    "The present notebook aims at investigating some computational and numerical aspects of the Fourier interpolation of a periodic function. \n",
    "\n",
    "The <tt>numpy</tt> and <tt>matplotlib</tt> packages will be needed."
   ]
  },
  {
   "cell_type": "code",
   "execution_count": null,
   "metadata": {},
   "outputs": [],
   "source": [
    "import numpy as np\n",
    "\n",
    "# To draw matplotlib plots within this notebook.\n",
    "%matplotlib inline\n",
    "import matplotlib.pyplot as plt"
   ]
  },
  {
   "cell_type": "markdown",
   "metadata": {},
   "source": [
    "## Exercise 1. The Fourier interpolation using the fast Fourier transform.\n",
    "\n",
    "Consider an *even* non-zero natural integer $N$ and the set of $N$ equispaced points in the interval (chosen for convenience) $[0,2\\pi]$\n",
    "$$\n",
    "x_j=\\frac{2\\pi j}{N},\\ j=0,\\dots,N-1.\n",
    "$$\n",
    "Given a periodic function $u$, the *$\\frac{N}{2}$-degree trigonometric interpolant of $u$ at the nodes $x_j$*, $j=0,\\dots,N-1$, is\n",
    "$$\n",
    "I_Nu(x)=\\frac{1}{N}\\sum_{k=-N/2+1}^{N/2}\\tilde{u}_k\\,e^{ikx},\n",
    "$$\n",
    "the discrete Fourier coefficients in the expansion being given by\n",
    "$$\n",
    "\\tilde{u}_k=\\sum_{j=0}^{N-1}u(x_j)\\,e^{-ikx_j},\\ k=-\\frac{N}{2}+1,\\dots,\\frac{N}{2}.\n",
    "$$\n",
    "The determination of the interpolant is directly related to the computation of its coefficients, which can be accomplished by the [fast Fourier transform](https://en.wikipedia.org/wiki/Fast_Fourier_transform) (FFT) algorithm, available in the `fft` library of <tt>numpy</tt> (see the [documentation](https://numpy.org/doc/stable/reference/routines.fft.html)). The computational complexity of this algorithm is $O(N\\log_2(N))$.\n",
    "\n",
    "**Question.** Write a function computing the expansion coefficients of the interpolant $I_Nu$ of a function $u$, the function and the integer $N$ being given. The complexity of this function should be a $O(N\\log_2(N))$."
   ]
  },
  {
   "cell_type": "code",
   "execution_count": null,
   "metadata": {},
   "outputs": [],
   "source": [
    "def fourier_interpolant_coefficients(u,N):\n",
    "    x=np.linspace(0,2*np.pi,N,endpoint=False)\n",
    "    return np.fft.fft(u(x))"
   ]
  },
  {
   "cell_type": "markdown",
   "metadata": {},
   "source": [
    "**Question.** Write a function which evaluates the interpolant $I_Nu$ of a function $u$ at a given set of points, the set of discrete Fourier coefficients being given."
   ]
  },
  {
   "cell_type": "code",
   "execution_count": null,
   "metadata": {},
   "outputs": [],
   "source": [
    "def evaluate_fourier_interpolant(coefficients,points):\n",
    "    N=coefficients.size\n",
    "    weights=1j*np.zeros(N) # or np.zeros(N,dtype='complex')\n",
    "    values=1j*np.zeros(points.size)\n",
    "    for i in range(points.size):\n",
    "        if N%2==0: # the number of points is even: N=2K\n",
    "            # K+1 coefficients with non negative index\n",
    "            weights[0:N//2+1]=np.exp(1j*np.arange(0,N//2+1)*points[i])\n",
    "            # K-1 coefficients with negative index\n",
    "            weights[N//2+1:]=np.exp(1j*np.arange(-N//2+1,0,1)*points[i])\n",
    "        else: # the number of points is odd: N=2K+1\n",
    "            # K+1 coefficients with non negative index\n",
    "            weights[0:(N+1)//2]=np.exp(1j*np.arange(0,(N-1)//2+1)*points[i])\n",
    "            # K coefficients with negative index\n",
    "            weights[(N+1)//2:]=np.exp(1j*np.arange(-(N-1)//2,0,1)*points[i])\n",
    "        values[i]=np.sum(coefficients*weights)/N\n",
    "    return values"
   ]
  },
  {
   "cell_type": "markdown",
   "metadata": {},
   "source": [
    "**Question.** Is the Fourier interpolant of a real function always real?"
   ]
  },
  {
   "cell_type": "markdown",
   "metadata": {},
   "source": [
    "**Answer.** The Fourier interpolant of a real function is not always a real function, as seen in the following numerical example with $f(x)=\\cos(3x)$ and $N=6$."
   ]
  },
  {
   "cell_type": "code",
   "execution_count": null,
   "metadata": {},
   "outputs": [],
   "source": [
    "y=np.linspace(0,2*np.pi,1000)\n",
    "N=6\n",
    "plt.plot(y,np.cos(3*y),label=r'$f$')\n",
    "plt.plot(y,evaluate_fourier_interpolant(fourier_interpolant_coefficients(lambda x:np.cos(3*x),N),y).real,label=r'$\\mathrm{Re}(I_6(f))$')\n",
    "plt.plot(y,evaluate_fourier_interpolant(fourier_interpolant_coefficients(lambda x:np.cos(3*x),N),y).imag,label=r'$\\mathrm{Im}(I_6(f))$')\n",
    "plt.legend()"
   ]
  },
  {
   "cell_type": "markdown",
   "metadata": {},
   "source": [
    "**Question.** Use the written functions to plot and compare the graphs of the following functions of  $L^2([0,2\\pi],\\mathbb{R})$ and their respective interpolants, for several values of $N$,\n",
    "\n",
    "* $u(x) = \\cos(2x) + \\sin(4x)$,\n",
    "* $u(x) = \\mathbb{1}_{\\left[\\frac{\\pi}{2},\\frac{3\\pi}{2}\\right]}(x)$,\n",
    "* $u(x) = \\sin (2x)\\exp\\left(\\cos\\left(8x\\right)\\right)$.\n",
    "  \n",
    "Is the [Gibbs phenomenon](https://en.wikipedia.org/wiki/Gibbs_phenomenon) observed for one of these functions?"
   ]
  },
  {
   "cell_type": "code",
   "execution_count": null,
   "metadata": {},
   "outputs": [],
   "source": [
    "N_values=[5,10,20,40]\n",
    "\n",
    "y=np.linspace(0,2*np.pi,1000)\n",
    "\n",
    "fig,axs=plt.subplots(4,3,figsize=(15,15))\n",
    "\n",
    "for i,N in enumerate(N_values):\n",
    "    axs[i,0].plot(y,np.cos(2*y)+np.sin(4*y),label=r'$\\cos(2x)+\\sin(4x)$')\n",
    "    axs[i,0].plot(y,evaluate_fourier_interpolant(fourier_interpolant_coefficients(lambda x:np.cos(2*x)+np.sin(4*x),N),y).real,label='Fourier interpolant')\n",
    "    axs[i,0].set_title('N='+str(N))\n",
    "    axs[i,0].legend()\n",
    "\n",
    "    axs[i,1].plot(y,((y>0.5*np.pi) & (y<1.5*np.pi)),label=r'$\\mathbb{1}_{\\left[\\frac{\\pi}{2},\\frac{3\\pi}{2}\\right]}(x)$')\n",
    "    axs[i,1].plot(y,evaluate_fourier_interpolant(fourier_interpolant_coefficients(lambda x:((x>0.5*np.pi) & (x<1.5*np.pi)),N),y).real,label='Fourier interpolant')\n",
    "    axs[i,1].set_title('N='+str(N))\n",
    "    axs[i,1].legend()\n",
    "\n",
    "    axs[i,2].plot(y,np.sin(2*y)*np.exp(np.cos(8*y)),label=r'$\\sin(2x)\\exp(\\cos(8x))$')\n",
    "    axs[i,2].plot(y,evaluate_fourier_interpolant(fourier_interpolant_coefficients(lambda x:np.sin(2*x)*np.exp(np.cos(8*x)),N),y).real,label='Fourier interpolant')\n",
    "    axs[i,2].set_title('N='+str(N))\n",
    "    axs[i,2].legend()\n",
    "\n",
    "fig.tight_layout()"
   ]
  },
  {
   "cell_type": "markdown",
   "metadata": {},
   "source": [
    "**Answer.** The Gibbs phenomenon is observed for the second function, which possesses discontinuities."
   ]
  },
  {
   "cell_type": "markdown",
   "metadata": {},
   "source": [
    "## Exercise 2. The Fourier interpolation derivative.\n",
    "\n",
    "The *Fourier interpolation derivative* of a function $u$ is defined as the derivative of the interpolant $I_Nu$, that is\n",
    "$$\n",
    "\\mathcal{D}_Nu=(I_Nu)',\n",
    "$$\n",
    "and, using the previous definitions, one can write, for even non-zero natural integer $N$,\n",
    "$$\n",
    "\\mathcal{D}_Nu(x)= \\sum_{k=-N/2+1}^{N/2}{ik\\tilde{u}_k e^{ikx}}.\n",
    "$$\n",
    "As a consequence, it is easy to compute the Fourier interpolation derivative of a function once the Fourier interpolant of this function is known. \n",
    "\n",
    "Note that, since interpolation and differentiation do not commute, one has in general\n",
    "$$\n",
    "(I_nu)'\\neq I_N(u'),\n",
    "$$\n",
    "and one can then wonder if the interpolation derivative is a good approximation to $u'$.\n",
    "\n",
    "**Question.** Write a function which computes the coefficients of the Fourier interpolation derivative $\\mathcal{D}_Nu$ of a function $u$, the set of discrete Fourier coefficients of the interpolant $I_Nu$ being given."
   ]
  },
  {
   "cell_type": "code",
   "execution_count": null,
   "metadata": {},
   "outputs": [],
   "source": [
    "def fourier_differentiation_coefficients(coefficients):\n",
    "    N=coefficients.size\n",
    "    weights=1j*np.zeros(N)\n",
    "    if N%2==0: # the number of points is even\n",
    "        weights[0:N//2+1]=1j*np.arange(0,N//2+1)\n",
    "        weights[N//2+1:]=1j*np.arange(-N//2+1,0,1)\n",
    "    else: # the number of points is odd\n",
    "        weights[0:(N+1)//2]=1j*np.arange(0,(N+1)//2)\n",
    "        weights[(N+1)//2:]=1j*np.arange(-(N-1)//2,0,1)\n",
    "    return coefficients*weights"
   ]
  },
  {
   "cell_type": "markdown",
   "metadata": {},
   "source": [
    "**Question.** Using the `np.fft.ifft` function for the inverse discrete Fourier transform, write a function which computes the values of the Fourier interpolation derivative $\\mathcal{D}_Nu$ at the interpolation nodes, the discrete Fourier coefficients of $\\mathcal{D}_Nu$ being given."
   ]
  },
  {
   "cell_type": "code",
   "execution_count": null,
   "metadata": {},
   "outputs": [],
   "source": [
    "def fourier_differentiation_values_at_nodes(differentiation_coefficients):\n",
    "    return np.fft.ifft(differentiation_coefficients)"
   ]
  },
  {
   "cell_type": "markdown",
   "metadata": {},
   "source": [
    "**Question.** Compare the graphs of the derivatives the following periodic functions of $L^2([0,2\\pi],\\mathbb{R})$ with the values at the interpolation nodes of their respective Fourier interpolation derivatives, for several values of $N$,\n",
    "* $u(x) = \\cos(x) + \\sin(2x)$,\n",
    "* $u(x) = \\mathbb{1}_{\\left[\\frac{\\pi}{2},\\frac{3\\pi}{2}\\right]}(x)$,\n",
    "* $u(x) = \\sin (2x)\\exp\\left(\\cos\\left(8x\\right)\\right)$."
   ]
  },
  {
   "cell_type": "code",
   "execution_count": null,
   "metadata": {},
   "outputs": [],
   "source": [
    "N_values=[5,10,20,40]\n",
    "\n",
    "y=np.linspace(0,2*np.pi,1000)\n",
    "\n",
    "fig,axs=plt.subplots(4,3,figsize=(15,15))\n",
    "\n",
    "for i,N in enumerate(N_values):\n",
    "    \n",
    "    x=np.linspace(0,2*np.pi,N,endpoint=False)\n",
    "\n",
    "    axs[i,0].plot(y,-np.sin(y)+2.*np.cos(2*y),label=r'$-\\sin(x)+2\\cos(2x)$')\n",
    "    axs[i,0].plot(x,fourier_differentiation_values_at_nodes(fourier_differentiation_coefficients(fourier_interpolant_coefficients(lambda x:np.cos(x)+np.sin(2*x),N))).real,'*',label='Fourier interpolation derivative')\n",
    "    axs[i,0].set_title('N='+str(N))\n",
    "    axs[i,0].legend()\n",
    "\n",
    "    axs[i,1].plot(y,np.zeros(y.size),label=r'$\\mathbb{1}_{\\left[\\frac{\\pi}{2},\\frac{3\\pi}{2}\\right]}(x)$')\n",
    "    axs[i,1].plot(x,fourier_differentiation_values_at_nodes(fourier_differentiation_coefficients(fourier_interpolant_coefficients(lambda x:((x>0.5*np.pi) & (x<1.5*np.pi)),N))).real,'*',label='Fourier interpolation derivative')\n",
    "    axs[i,1].set_title('N='+str(N))\n",
    "    axs[i,1].legend()\n",
    "\n",
    "    axs[i,2].plot(y,(2*np.cos(2*y)-8*np.sin(8*y)*np.sin(2*y))*np.exp(np.cos(8*y)),label=r'$(2\\cos(2x)-8\\sin(2x)\\sin(8x))\\exp(\\cos(8x))$')\n",
    "    axs[i,2].plot(x,fourier_differentiation_values_at_nodes(fourier_differentiation_coefficients(fourier_interpolant_coefficients(lambda x:np.sin(2*x)*np.exp(np.cos(8*x)),N))).real,'*',label='Fourier interpolation derivative')\n",
    "    axs[i,2].set_title('N='+str(N))\n",
    "    axs[i,2].legend()\n",
    "\n",
    "fig.tight_layout()"
   ]
  },
  {
   "cell_type": "markdown",
   "metadata": {},
   "source": [
    "## Exercise 3. Aliasing on an example.\n",
    "\n",
    "Aliasing effects are caused by the fact that the functions $\\{e^{i(k+Nm)x}\\}_{m\\in\\mathbb{Z}}$ are indistinguishable on the discrete grid $\\{\\frac{2\\pi j}{N},\\ j=0,\\dots,N-1\\}$ (in other words, they are *aliases* of one another). The code below illustrates this phenomenon, showing that the modes $e^{ix}$ and $e^{9ix}$ both have the same representation on the grid $\\{\\frac{\\pi j}{4},\\ j=0,\\dots,7\\}$."
   ]
  },
  {
   "cell_type": "code",
   "execution_count": null,
   "metadata": {},
   "outputs": [],
   "source": [
    "x=np.linspace(0,2*np.pi,8,endpoint=False)\n",
    "\n",
    "y=np.linspace(0,2*np.pi,1000)\n",
    "\n",
    "fig,axs=plt.subplots(1,2,figsize=(10,8))\n",
    "axs[0].plot(y,np.cos(y),label=r'$cos(x)$')\n",
    "axs[0].plot(y,np.cos(9*y),label=r'$cos(9x)$')\n",
    "axs[0].plot(x,np.cos(x),'o')\n",
    "axs[0].set_aspect('equal','box')\n",
    "axs[0].legend()\n",
    "\n",
    "axs[1].plot(y,np.sin(y),label=r'$sin(x)$')\n",
    "axs[1].plot(y,np.sin(9*y),label=r'$sin(9x)$')\n",
    "axs[1].plot(x,np.sin(x),'o')\n",
    "axs[1].set_aspect('equal','box')\n",
    "axs[1].legend()"
   ]
  },
  {
   "cell_type": "markdown",
   "metadata": {},
   "source": [
    "Let us consider the following periodic functions of $L^2([0,2\\pi],\\mathbb{R})$:\n",
    "* $u(x)=\\cos(3x)$,\n",
    "* $v(x)=\\sin(4x)$,\n",
    "* $s(x)=u(x)v(x)$.\n",
    "\n",
    "**Question.** What is the Fourier series associated with the function $s$? What is the minimum value of $N$ such that $I_Ns=s$?"
   ]
  },
  {
   "cell_type": "markdown",
   "metadata": {},
   "source": [
    "**Answer.** One has $s(x)=\\cos(3x)\\sin(4x)=\\frac{1}{2}\\left(\\sin(7x)-\\sin(-x)\\right)=\\frac{1}{2}\\left(\\sin(7x)+\\sin(x)\\right)$ and the non-zero Fourier coefficients of the associated series are $\\hat{s}_1=\\hat{s}_7=-\\frac{i}{4}$, $\\hat{s}_{-1}=\\hat{s}_{-7}=\\frac{i}{4}$. As a consequence,  the interpolation of $s$ necessitates at least $N=2\\times7+1=15$ points to be exact, while the interpolation of the function $u$ is exact using at least $N=2\\times3+1=7$ points and that of the function $v$ is exact using at least $N=2\\times4+1=9$ points."
   ]
  },
  {
   "cell_type": "markdown",
   "metadata": {},
   "source": [
    "**Question.** Plot the graphs of the functions $u$, $v$ and $s$, and of their respective Fourier interpolants $I_Nu$, $I_Nv$ and $I_Ns$, on the same figures for $N=7,9,15$. Comment."
   ]
  },
  {
   "cell_type": "code",
   "execution_count": null,
   "metadata": {
    "scrolled": true
   },
   "outputs": [],
   "source": [
    "def u(x):\n",
    "    return np.cos(3*x)\n",
    "\n",
    "def v(x):\n",
    "    return np.sin(4*x)\n",
    "\n",
    "N_values=[7,9,15]\n",
    "\n",
    "y=np.linspace(0,2*np.pi,1000)\n",
    "\n",
    "fig,axs=plt.subplots(3,3,figsize=(15,6))\n",
    "for i in range(3):\n",
    "    N=N_values[i]\n",
    "    axs[i,0].plot(y,u(y),label=r'$u(x)$')\n",
    "    axs[i,0].plot(y,evaluate_fourier_interpolant(fourier_interpolant_coefficients(u,N),y).real,label=r'$I_Nu(x)$')\n",
    "    axs[i,0].set_aspect('equal','box')\n",
    "    axs[i,0].set_title('N='+str(N))\n",
    "    axs[i,0].legend()\n",
    "    axs[i,1].plot(y,v(y),label=r'$v(x)$')\n",
    "    axs[i,1].plot(y,evaluate_fourier_interpolant(fourier_interpolant_coefficients(v,N),y).real,label=r'$I_Nv(x)$')\n",
    "    axs[i,1].set_aspect('equal','box')\n",
    "    axs[i,1].set_title('N='+str(N))\n",
    "    axs[i,1].legend()\n",
    "    axs[i,2].plot(y,u(y)*v(y),label=r'$s(x)$')\n",
    "    axs[i,2].plot(y,evaluate_fourier_interpolant(fourier_interpolant_coefficients(lambda x:u(x)*v(x),N),y).real,label=r'$I_Ns(x)$')\n",
    "    axs[i,2].set_aspect('equal','box')\n",
    "    axs[i,2].set_title('N='+str(N))\n",
    "    axs[i,2].legend()\n",
    "\n",
    "fig.tight_layout()"
   ]
  },
  {
   "cell_type": "markdown",
   "metadata": {},
   "source": [
    "**Answer.** The three plots confirm the conclusion in the previous answer."
   ]
  },
  {
   "cell_type": "markdown",
   "metadata": {},
   "source": [
    "In spectral methods, aliasing appears when dealing with nonlinear terms involving products, due to wave numbers appearing in the convolution of functions exceeding the fixed range of wavenumbers, equal to $\\lfloor\\frac{N}{2}\\rfloor$. More precisely, an approach to avoid convolutions in spectral space is to use the inverse discrete Fourier transform to compute products in the physical space and then use the discrete Fourier transform to return to spectral space, the resulting scheme being called a [*pseudo-spectral method*](https://en.wikipedia.org/wiki/Pseudo-spectral_method). As seen in the example above, this product contains modes with higher wavenumbers which may not be correctly represented on the discrete grid. These are then aliased to modes with lower wavenumbers, which may introduce notable errors in the method or even result in a numerical instability.\n",
    "\n",
    "A cure to this effect is to use a grid fine enough to correctly resolve all the modes involved in the computations, but basic techniques for aliasing removal in quadratic nonlinearities have also been proposed in the literature, one of them being the *two-thirds rule* introduced by Orszag in a [very short note](https://doi.org/10.1175/1520-0469(1971)028%3C1074:OTEOAI%3E2.0.CO;2). It works as follows.\n",
    "\n",
    "- Assuming the $N$ gridpoints are used, the two arrays storing the spectral coefficients of the functions to be multiplied are first extended to a larger size $M=\\frac{3N}{2}$ (since $N=\\frac{2M}{3}$, the number of de-aliased coefficients is two-thirds of the total number of coefficients, hence the name of the technique) and padded on both sides with zeros.\n",
    "- Inverse discrete Fourier transforms are performed on the resulting arrays and the product is computed in the physical space.\n",
    "- The discrete Fourier transform of the product is computed and the $M-N$ discrete Fourier coefficients corresponding to higher wavenumbers are dropped by truncation, while the remaining ones yield the de-aliased coefficients after multiplication by $\\frac{3}{2}$.\n",
    "\n",
    "Let us briefly explain the rationale behind such a choice for $M$. Let\n",
    "$$\n",
    "\\forall j\\in\\{0,\\dots,M-1\\},\\ y_j=\\frac{2\\pi j}{M},\\ u_j=\\frac{1}{M}\\sum_{k=-M/2+1}^{M/2}\\check{u}_ke^{iky_j},\\ v_j=\\frac{1}{M}\\sum_{k=-M/2+1}^{M/2}\\check{v}_ke^{iky_j},\\ s_j=u_jv_j,\n",
    "$$\n",
    "where\n",
    "$$\n",
    "\\forall k\\in\\left\\{-\\frac{M}{2}+1,\\dots,\\frac{M}{2}\\right\\},\\ \\check{u}_k=\\begin{cases}\\hat{u}_k&\\text{if }-\\frac{N}{2}+1\\leq k\\leq\\frac{N}{2}\\\\0&\\text{otherwise}\\end{cases}\\text{ and }\\check{v}_k=\\begin{cases}\\hat{v}_k&\\text{if }-\\frac{N}{2}+1\\leq k\\leq\\frac{N}{2}\\\\0&\\text{otherwise}\\end{cases},\n",
    "$$\n",
    "with $\\hat{u}_k$ and $\\hat{v}_k$, $k=-\\frac{N}{2}+1,\\dots,\\frac{N}{2}$, the respective Fourier coefficients of $u$ and $v$.\n",
    "Let\n",
    "$$\n",
    "\\forall k\\in\\left\\{-\\frac{M}{2}+1,\\dots,\\frac{M}{2}\\right\\},\\ \\check{s}_k=\\sum_{j=0}^{M}s_je^{-iky_j}.\n",
    "$$\n",
    "Then, one has\n",
    "$$\n",
    "\\check{s}_k=\\sum_{m+n=k}\\check{u}_m\\check{v}_n+\\sum_{m+n=k\\pm M}\\check{u}_m\\check{v}_n,\n",
    "$$\n",
    "and since we are only interested in the coefficients $\\check{s}_k$ for which $k$ belongs to $\\left\\{-\\frac{N}{2}+1,\\dots,\\frac{N}{2}\\right\\}$, we choose $M$ so that the second sum on the right-hand side, the *aliasing error*, vanishes for these indices. The coefficients $\\check{u}_m$ and $\\check{v}_m$ being zero for $m>\\frac{N}{2}+1$ or $m<-\\frac{N}{2}$, we demand that, for any $m$ and $n$ in $\\left\\{-\\frac{N}{2}+1,\\dots,\\frac{N}{2}\\right\\}$,\n",
    "$$\n",
    "m+n-M<-\\frac{N}{2}+1\\text{ if }m+n>\\frac{M}{2},\n",
    "$$\n",
    "or\n",
    "$$\n",
    "m+n+M>\\frac{N}{2}\\text{ if }m+n<-\\frac{M}{2}+1.\n",
    "$$\n",
    "The worst-case condition is obtained for the choice $m=n=\\frac{N}{2}$ in the first of these two cases, which gives\n",
    "$$\n",
    "M>\\frac{3N}{2}-1.\n",
    "$$\n",
    "With $M$ chosen in this way, we have obtained the de-aliased coefficients of $s$, that is\n",
    "$$\n",
    "\\forall k\\in\\left\\{-\\frac{N}{2}+1,\\dots,\\frac{N}{2}\\right\\},\\ \\check{s}_k=\\hat{s}_k,\n",
    "$$\n",
    "where $\\hat{s}_k=\\sum_{m+n=k}\\hat{u}_m\\hat{v}_n$.\n",
    "\n",
    "It has to be stressed that this method only helps to suppress aliasing errors and does not increase the resolution of the numerical solution. Note that the technique can be adapted to the case of the product of $p$ functions by setting $M=\\frac{p+1}{2}N$.\n",
    "\n",
    "**Question.** Implement the two-thirds rule algorithm computing the interpolation coefficients of the product of two functions, the respective sets of interpolation coefficients of the functions being given. Test it on the previous example."
   ]
  },
  {
   "cell_type": "code",
   "execution_count": null,
   "metadata": {
    "scrolled": true
   },
   "outputs": [],
   "source": [
    "def dealiasing(u_tilde,v_tilde):\n",
    "    # de-aliasing by the 2/3-rule\n",
    "    N=u_tilde.size\n",
    "    # zero-padding to compute the nonlinear product in physical space on a grid with (3/2)N points\n",
    "    M=3*N//2\n",
    "    if N%2==0: # the number of points is even\n",
    "        u_tilde_pad=np.concatenate((u_tilde[0:N//2+1],1j*np.zeros(M-N),u_tilde[N//2+1:]))\n",
    "        v_tilde_pad=np.concatenate((v_tilde[0:N//2+1],1j*np.zeros(M-N),v_tilde[N//2+1:]))\n",
    "    else: # the number of points is odd\n",
    "        u_tilde_pad=np.concatenate((u_tilde[0:(N+1)//2],1j*np.zeros(M-N),u_tilde[(N+1)//2:]))\n",
    "        v_tilde_pad=np.concatenate((v_tilde[0:(N+1)//2],1j*np.zeros(M-N),v_tilde[(N+1)//2:]))\n",
    "    # inverse discrete Fourier transforms\n",
    "    u_pad=np.fft.ifft(u_tilde_pad)\n",
    "    v_pad=np.fft.ifft(v_tilde_pad)\n",
    "    # product\n",
    "    s_pad=u_pad*v_pad\n",
    "    # discrete Fourier transform\n",
    "    s_tilde_pad=np.fft.fft(s_pad)\n",
    "    # truncation\n",
    "    s_tilde=1j*np.zeros(N)\n",
    "    if N%2==0: # the number of points is even\n",
    "        s_tilde[0:N//2+1]=1.5*s_tilde_pad[0:N//2+1]\n",
    "        s_tilde[N//2+1:]=1.5*s_tilde_pad[M-N//2+1:]\n",
    "    else:\n",
    "        s_tilde[0:(N+1)//2]=1.5*s_tilde_pad[0:(N-1)//2+1]\n",
    "        s_tilde[(N+1)//2:]=1.5*s_tilde_pad[M-(N-1)//2:]\n",
    "    return s_tilde\n",
    "\n",
    "# test on the previous example\n",
    "fig,axs=plt.subplots(1,3,figsize=(18,5))\n",
    "for i in range(3):\n",
    "    N=N_values[i]\n",
    "    \n",
    "    dealiased_coefficients=dealiasing(fourier_interpolant_coefficients(u,N),fourier_interpolant_coefficients(v,N))\n",
    "    axs[i].plot(y,u(y)*v(y),label=r'$s(x)$')\n",
    "    axs[i].plot(y,evaluate_fourier_interpolant(fourier_interpolant_coefficients(lambda x:u(x)*v(x),N),y).real,label=r'$I_Ns(x)$')\n",
    "    axs[i].plot(y,evaluate_fourier_interpolant(dealiased_coefficients,y).real,label=r'de-aliased $I_Ns(x)$')\n",
    "    axs[i].set_aspect('equal','box')\n",
    "    axs[i].set_title('N='+str(N))\n",
    "    axs[i].legend()\n",
    "\n",
    "fig.tight_layout()"
   ]
  }
 ],
 "metadata": {
  "kernelspec": {
   "display_name": "Python 3 (ipykernel)",
   "language": "python",
   "name": "python3"
  },
  "language_info": {
   "codemirror_mode": {
    "name": "ipython",
    "version": 3
   },
   "file_extension": ".py",
   "mimetype": "text/x-python",
   "name": "python",
   "nbconvert_exporter": "python",
   "pygments_lexer": "ipython3",
   "version": "3.10.12"
  }
 },
 "nbformat": 4,
 "nbformat_minor": 2
}
